{
 "cells": [
  {
   "cell_type": "code",
   "execution_count": 1,
   "metadata": {},
   "outputs": [],
   "source": [
    "print?"
   ]
  },
  {
   "cell_type": "code",
   "execution_count": 2,
   "metadata": {},
   "outputs": [
    {
     "name": "stdout",
     "output_type": "stream",
     "text": [
      "\n"
     ]
    }
   ],
   "source": [
    "print()"
   ]
  },
  {
   "cell_type": "code",
   "execution_count": 3,
   "metadata": {},
   "outputs": [
    {
     "name": "stdout",
     "output_type": "stream",
     "text": [
      "Help on built-in function print in module builtins:\n",
      "\n",
      "print(...)\n",
      "    print(value, ..., sep=' ', end='\\n', file=sys.stdout, flush=False)\n",
      "    \n",
      "    Prints the values to a stream, or to sys.stdout by default.\n",
      "    Optional keyword arguments:\n",
      "    file:  a file-like object (stream); defaults to the current sys.stdout.\n",
      "    sep:   string inserted between values, default a space.\n",
      "    end:   string appended after the last value, default a newline.\n",
      "    flush: whether to forcibly flush the stream.\n",
      "\n"
     ]
    }
   ],
   "source": [
    "help(print)"
   ]
  },
  {
   "cell_type": "markdown",
   "metadata": {},
   "source": [
    "# Data in Pandas"
   ]
  },
  {
   "cell_type": "code",
   "execution_count": 4,
   "metadata": {},
   "outputs": [],
   "source": [
    "import pandas as pd"
   ]
  },
  {
   "cell_type": "code",
   "execution_count": 5,
   "metadata": {},
   "outputs": [
    {
     "data": {
      "text/html": [
       "<div>\n",
       "<style scoped>\n",
       "    .dataframe tbody tr th:only-of-type {\n",
       "        vertical-align: middle;\n",
       "    }\n",
       "\n",
       "    .dataframe tbody tr th {\n",
       "        vertical-align: top;\n",
       "    }\n",
       "\n",
       "    .dataframe thead th {\n",
       "        text-align: right;\n",
       "    }\n",
       "</style>\n",
       "<table border=\"1\" class=\"dataframe\">\n",
       "  <thead>\n",
       "    <tr style=\"text-align: right;\">\n",
       "      <th></th>\n",
       "      <th>key_ID</th>\n",
       "      <th>village</th>\n",
       "      <th>interview_date</th>\n",
       "      <th>no_membrs</th>\n",
       "      <th>years_liv</th>\n",
       "      <th>respondent_wall_type</th>\n",
       "      <th>rooms</th>\n",
       "      <th>memb_assoc</th>\n",
       "      <th>affect_conflicts</th>\n",
       "      <th>liv_count</th>\n",
       "      <th>items_owned</th>\n",
       "      <th>no_meals</th>\n",
       "      <th>months_lack_food</th>\n",
       "      <th>instanceID</th>\n",
       "    </tr>\n",
       "  </thead>\n",
       "  <tbody>\n",
       "    <tr>\n",
       "      <th>0</th>\n",
       "      <td>1</td>\n",
       "      <td>God</td>\n",
       "      <td>2016-11-17T00:00:00Z</td>\n",
       "      <td>3</td>\n",
       "      <td>4</td>\n",
       "      <td>muddaub</td>\n",
       "      <td>1</td>\n",
       "      <td>NaN</td>\n",
       "      <td>NaN</td>\n",
       "      <td>1</td>\n",
       "      <td>bicycle;television;solar_panel;table</td>\n",
       "      <td>2</td>\n",
       "      <td>Jan</td>\n",
       "      <td>uuid:ec241f2c-0609-46ed-b5e8-fe575f6cefef</td>\n",
       "    </tr>\n",
       "    <tr>\n",
       "      <th>1</th>\n",
       "      <td>1</td>\n",
       "      <td>God</td>\n",
       "      <td>2016-11-17T00:00:00Z</td>\n",
       "      <td>7</td>\n",
       "      <td>9</td>\n",
       "      <td>muddaub</td>\n",
       "      <td>1</td>\n",
       "      <td>yes</td>\n",
       "      <td>once</td>\n",
       "      <td>3</td>\n",
       "      <td>cow_cart;bicycle;radio;cow_plough;solar_panel;...</td>\n",
       "      <td>2</td>\n",
       "      <td>Jan;Sept;Oct;Nov;Dec</td>\n",
       "      <td>uuid:099de9c9-3e5e-427b-8452-26250e840d6e</td>\n",
       "    </tr>\n",
       "    <tr>\n",
       "      <th>2</th>\n",
       "      <td>3</td>\n",
       "      <td>God</td>\n",
       "      <td>2016-11-17T00:00:00Z</td>\n",
       "      <td>10</td>\n",
       "      <td>15</td>\n",
       "      <td>burntbricks</td>\n",
       "      <td>1</td>\n",
       "      <td>NaN</td>\n",
       "      <td>NaN</td>\n",
       "      <td>1</td>\n",
       "      <td>solar_torch</td>\n",
       "      <td>2</td>\n",
       "      <td>Jan;Feb;Mar;Oct;Nov;Dec</td>\n",
       "      <td>uuid:193d7daf-9582-409b-bf09-027dd36f9007</td>\n",
       "    </tr>\n",
       "    <tr>\n",
       "      <th>3</th>\n",
       "      <td>4</td>\n",
       "      <td>God</td>\n",
       "      <td>2016-11-17T00:00:00Z</td>\n",
       "      <td>7</td>\n",
       "      <td>6</td>\n",
       "      <td>burntbricks</td>\n",
       "      <td>1</td>\n",
       "      <td>NaN</td>\n",
       "      <td>NaN</td>\n",
       "      <td>2</td>\n",
       "      <td>bicycle;radio;cow_plough;solar_panel;mobile_phone</td>\n",
       "      <td>2</td>\n",
       "      <td>Sept;Oct;Nov;Dec</td>\n",
       "      <td>uuid:148d1105-778a-4755-aa71-281eadd4a973</td>\n",
       "    </tr>\n",
       "    <tr>\n",
       "      <th>4</th>\n",
       "      <td>5</td>\n",
       "      <td>God</td>\n",
       "      <td>2016-11-17T00:00:00Z</td>\n",
       "      <td>7</td>\n",
       "      <td>40</td>\n",
       "      <td>burntbricks</td>\n",
       "      <td>1</td>\n",
       "      <td>NaN</td>\n",
       "      <td>NaN</td>\n",
       "      <td>4</td>\n",
       "      <td>motorcyle;radio;cow_plough;mobile_phone</td>\n",
       "      <td>2</td>\n",
       "      <td>Aug;Sept;Oct;Nov</td>\n",
       "      <td>uuid:2c867811-9696-4966-9866-f35c3e97d02d</td>\n",
       "    </tr>\n",
       "    <tr>\n",
       "      <th>...</th>\n",
       "      <td>...</td>\n",
       "      <td>...</td>\n",
       "      <td>...</td>\n",
       "      <td>...</td>\n",
       "      <td>...</td>\n",
       "      <td>...</td>\n",
       "      <td>...</td>\n",
       "      <td>...</td>\n",
       "      <td>...</td>\n",
       "      <td>...</td>\n",
       "      <td>...</td>\n",
       "      <td>...</td>\n",
       "      <td>...</td>\n",
       "      <td>...</td>\n",
       "    </tr>\n",
       "    <tr>\n",
       "      <th>126</th>\n",
       "      <td>126</td>\n",
       "      <td>Ruaca</td>\n",
       "      <td>2017-05-18T00:00:00Z</td>\n",
       "      <td>3</td>\n",
       "      <td>7</td>\n",
       "      <td>burntbricks</td>\n",
       "      <td>1</td>\n",
       "      <td>no</td>\n",
       "      <td>more_once</td>\n",
       "      <td>3</td>\n",
       "      <td>motorcyle;radio;solar_panel</td>\n",
       "      <td>3</td>\n",
       "      <td>Oct;Nov;Dec</td>\n",
       "      <td>uuid:69caea81-a4e5-4e8d-83cd-9c18d8e8d965</td>\n",
       "    </tr>\n",
       "    <tr>\n",
       "      <th>127</th>\n",
       "      <td>193</td>\n",
       "      <td>Ruaca</td>\n",
       "      <td>2017-06-04T00:00:00Z</td>\n",
       "      <td>7</td>\n",
       "      <td>10</td>\n",
       "      <td>cement</td>\n",
       "      <td>3</td>\n",
       "      <td>no</td>\n",
       "      <td>more_once</td>\n",
       "      <td>3</td>\n",
       "      <td>car;lorry;television;radio;sterio;cow_plough;s...</td>\n",
       "      <td>3</td>\n",
       "      <td>none</td>\n",
       "      <td>uuid:5ccc2e5a-ea90-48b5-8542-69400d5334df</td>\n",
       "    </tr>\n",
       "    <tr>\n",
       "      <th>128</th>\n",
       "      <td>194</td>\n",
       "      <td>Ruaca</td>\n",
       "      <td>2017-06-04T00:00:00Z</td>\n",
       "      <td>4</td>\n",
       "      <td>5</td>\n",
       "      <td>muddaub</td>\n",
       "      <td>1</td>\n",
       "      <td>no</td>\n",
       "      <td>more_once</td>\n",
       "      <td>1</td>\n",
       "      <td>radio;solar_panel;solar_torch;mobile_phone</td>\n",
       "      <td>3</td>\n",
       "      <td>Sept;Oct;Nov</td>\n",
       "      <td>uuid:95c11a30-d44f-40c4-8ea8-ec34fca6bbbf</td>\n",
       "    </tr>\n",
       "    <tr>\n",
       "      <th>129</th>\n",
       "      <td>199</td>\n",
       "      <td>Chirodzo</td>\n",
       "      <td>2017-06-04T00:00:00Z</td>\n",
       "      <td>7</td>\n",
       "      <td>17</td>\n",
       "      <td>burntbricks</td>\n",
       "      <td>2</td>\n",
       "      <td>yes</td>\n",
       "      <td>more_once</td>\n",
       "      <td>2</td>\n",
       "      <td>cow_cart;lorry;motorcyle;computer;television;r...</td>\n",
       "      <td>3</td>\n",
       "      <td>Nov;Dec</td>\n",
       "      <td>uuid:ffc83162-ff24-4a87-8709-eff17abc0b3b</td>\n",
       "    </tr>\n",
       "    <tr>\n",
       "      <th>130</th>\n",
       "      <td>200</td>\n",
       "      <td>Chirodzo</td>\n",
       "      <td>2017-06-04T00:00:00Z</td>\n",
       "      <td>8</td>\n",
       "      <td>20</td>\n",
       "      <td>burntbricks</td>\n",
       "      <td>2</td>\n",
       "      <td>NaN</td>\n",
       "      <td>NaN</td>\n",
       "      <td>3</td>\n",
       "      <td>radio;cow_plough;solar_panel;solar_torch;table...</td>\n",
       "      <td>3</td>\n",
       "      <td>Oct;Nov</td>\n",
       "      <td>uuid:aa77a0d7-7142-41c8-b494-483a5b68d8a7</td>\n",
       "    </tr>\n",
       "  </tbody>\n",
       "</table>\n",
       "<p>131 rows × 14 columns</p>\n",
       "</div>"
      ],
      "text/plain": [
       "     key_ID   village        interview_date  no_membrs  years_liv  \\\n",
       "0         1       God  2016-11-17T00:00:00Z          3          4   \n",
       "1         1       God  2016-11-17T00:00:00Z          7          9   \n",
       "2         3       God  2016-11-17T00:00:00Z         10         15   \n",
       "3         4       God  2016-11-17T00:00:00Z          7          6   \n",
       "4         5       God  2016-11-17T00:00:00Z          7         40   \n",
       "..      ...       ...                   ...        ...        ...   \n",
       "126     126     Ruaca  2017-05-18T00:00:00Z          3          7   \n",
       "127     193     Ruaca  2017-06-04T00:00:00Z          7         10   \n",
       "128     194     Ruaca  2017-06-04T00:00:00Z          4          5   \n",
       "129     199  Chirodzo  2017-06-04T00:00:00Z          7         17   \n",
       "130     200  Chirodzo  2017-06-04T00:00:00Z          8         20   \n",
       "\n",
       "    respondent_wall_type  rooms memb_assoc affect_conflicts  liv_count  \\\n",
       "0                muddaub      1        NaN              NaN          1   \n",
       "1                muddaub      1        yes             once          3   \n",
       "2            burntbricks      1        NaN              NaN          1   \n",
       "3            burntbricks      1        NaN              NaN          2   \n",
       "4            burntbricks      1        NaN              NaN          4   \n",
       "..                   ...    ...        ...              ...        ...   \n",
       "126          burntbricks      1         no        more_once          3   \n",
       "127               cement      3         no        more_once          3   \n",
       "128              muddaub      1         no        more_once          1   \n",
       "129          burntbricks      2        yes        more_once          2   \n",
       "130          burntbricks      2        NaN              NaN          3   \n",
       "\n",
       "                                           items_owned  no_meals  \\\n",
       "0                 bicycle;television;solar_panel;table         2   \n",
       "1    cow_cart;bicycle;radio;cow_plough;solar_panel;...         2   \n",
       "2                                          solar_torch         2   \n",
       "3    bicycle;radio;cow_plough;solar_panel;mobile_phone         2   \n",
       "4              motorcyle;radio;cow_plough;mobile_phone         2   \n",
       "..                                                 ...       ...   \n",
       "126                        motorcyle;radio;solar_panel         3   \n",
       "127  car;lorry;television;radio;sterio;cow_plough;s...         3   \n",
       "128         radio;solar_panel;solar_torch;mobile_phone         3   \n",
       "129  cow_cart;lorry;motorcyle;computer;television;r...         3   \n",
       "130  radio;cow_plough;solar_panel;solar_torch;table...         3   \n",
       "\n",
       "            months_lack_food                                 instanceID  \n",
       "0                        Jan  uuid:ec241f2c-0609-46ed-b5e8-fe575f6cefef  \n",
       "1       Jan;Sept;Oct;Nov;Dec  uuid:099de9c9-3e5e-427b-8452-26250e840d6e  \n",
       "2    Jan;Feb;Mar;Oct;Nov;Dec  uuid:193d7daf-9582-409b-bf09-027dd36f9007  \n",
       "3           Sept;Oct;Nov;Dec  uuid:148d1105-778a-4755-aa71-281eadd4a973  \n",
       "4           Aug;Sept;Oct;Nov  uuid:2c867811-9696-4966-9866-f35c3e97d02d  \n",
       "..                       ...                                        ...  \n",
       "126              Oct;Nov;Dec  uuid:69caea81-a4e5-4e8d-83cd-9c18d8e8d965  \n",
       "127                     none  uuid:5ccc2e5a-ea90-48b5-8542-69400d5334df  \n",
       "128             Sept;Oct;Nov  uuid:95c11a30-d44f-40c4-8ea8-ec34fca6bbbf  \n",
       "129                  Nov;Dec  uuid:ffc83162-ff24-4a87-8709-eff17abc0b3b  \n",
       "130                  Oct;Nov  uuid:aa77a0d7-7142-41c8-b494-483a5b68d8a7  \n",
       "\n",
       "[131 rows x 14 columns]"
      ]
     },
     "execution_count": 5,
     "metadata": {},
     "output_type": "execute_result"
    }
   ],
   "source": [
    "pd.read_csv('https://raw.githubusercontent.com/brownsarahm/python-socialsci-files/master/data/SAFI_clean.csv')"
   ]
  },
  {
   "cell_type": "code",
   "execution_count": 6,
   "metadata": {},
   "outputs": [],
   "source": [
    "safi_df = pd.read_csv('https://raw.githubusercontent.com/brownsarahm/python-socialsci-files/master/data/SAFI_clean.csv')"
   ]
  },
  {
   "cell_type": "code",
   "execution_count": 7,
   "metadata": {},
   "outputs": [
    {
     "data": {
      "text/plain": [
       "pandas.core.frame.DataFrame"
      ]
     },
     "execution_count": 7,
     "metadata": {},
     "output_type": "execute_result"
    }
   ],
   "source": [
    "type(safi_df)"
   ]
  },
  {
   "cell_type": "code",
   "execution_count": 8,
   "metadata": {},
   "outputs": [
    {
     "data": {
      "text/plain": [
       "(131, 14)"
      ]
     },
     "execution_count": 8,
     "metadata": {},
     "output_type": "execute_result"
    }
   ],
   "source": [
    "safi_df.shape"
   ]
  },
  {
   "cell_type": "code",
   "execution_count": 9,
   "metadata": {},
   "outputs": [
    {
     "data": {
      "text/plain": [
       "(131, 14)"
      ]
     },
     "execution_count": 9,
     "metadata": {},
     "output_type": "execute_result"
    }
   ],
   "source": [
    "safi_df.shape"
   ]
  },
  {
   "cell_type": "code",
   "execution_count": 10,
   "metadata": {},
   "outputs": [
    {
     "data": {
      "text/html": [
       "<div>\n",
       "<style scoped>\n",
       "    .dataframe tbody tr th:only-of-type {\n",
       "        vertical-align: middle;\n",
       "    }\n",
       "\n",
       "    .dataframe tbody tr th {\n",
       "        vertical-align: top;\n",
       "    }\n",
       "\n",
       "    .dataframe thead th {\n",
       "        text-align: right;\n",
       "    }\n",
       "</style>\n",
       "<table border=\"1\" class=\"dataframe\">\n",
       "  <thead>\n",
       "    <tr style=\"text-align: right;\">\n",
       "      <th></th>\n",
       "      <th>key_ID</th>\n",
       "      <th>village</th>\n",
       "      <th>interview_date</th>\n",
       "      <th>no_membrs</th>\n",
       "      <th>years_liv</th>\n",
       "      <th>respondent_wall_type</th>\n",
       "      <th>rooms</th>\n",
       "      <th>memb_assoc</th>\n",
       "      <th>affect_conflicts</th>\n",
       "      <th>liv_count</th>\n",
       "      <th>items_owned</th>\n",
       "      <th>no_meals</th>\n",
       "      <th>months_lack_food</th>\n",
       "      <th>instanceID</th>\n",
       "    </tr>\n",
       "  </thead>\n",
       "  <tbody>\n",
       "    <tr>\n",
       "      <th>0</th>\n",
       "      <td>1</td>\n",
       "      <td>God</td>\n",
       "      <td>2016-11-17T00:00:00Z</td>\n",
       "      <td>3</td>\n",
       "      <td>4</td>\n",
       "      <td>muddaub</td>\n",
       "      <td>1</td>\n",
       "      <td>NaN</td>\n",
       "      <td>NaN</td>\n",
       "      <td>1</td>\n",
       "      <td>bicycle;television;solar_panel;table</td>\n",
       "      <td>2</td>\n",
       "      <td>Jan</td>\n",
       "      <td>uuid:ec241f2c-0609-46ed-b5e8-fe575f6cefef</td>\n",
       "    </tr>\n",
       "    <tr>\n",
       "      <th>1</th>\n",
       "      <td>1</td>\n",
       "      <td>God</td>\n",
       "      <td>2016-11-17T00:00:00Z</td>\n",
       "      <td>7</td>\n",
       "      <td>9</td>\n",
       "      <td>muddaub</td>\n",
       "      <td>1</td>\n",
       "      <td>yes</td>\n",
       "      <td>once</td>\n",
       "      <td>3</td>\n",
       "      <td>cow_cart;bicycle;radio;cow_plough;solar_panel;...</td>\n",
       "      <td>2</td>\n",
       "      <td>Jan;Sept;Oct;Nov;Dec</td>\n",
       "      <td>uuid:099de9c9-3e5e-427b-8452-26250e840d6e</td>\n",
       "    </tr>\n",
       "    <tr>\n",
       "      <th>2</th>\n",
       "      <td>3</td>\n",
       "      <td>God</td>\n",
       "      <td>2016-11-17T00:00:00Z</td>\n",
       "      <td>10</td>\n",
       "      <td>15</td>\n",
       "      <td>burntbricks</td>\n",
       "      <td>1</td>\n",
       "      <td>NaN</td>\n",
       "      <td>NaN</td>\n",
       "      <td>1</td>\n",
       "      <td>solar_torch</td>\n",
       "      <td>2</td>\n",
       "      <td>Jan;Feb;Mar;Oct;Nov;Dec</td>\n",
       "      <td>uuid:193d7daf-9582-409b-bf09-027dd36f9007</td>\n",
       "    </tr>\n",
       "    <tr>\n",
       "      <th>3</th>\n",
       "      <td>4</td>\n",
       "      <td>God</td>\n",
       "      <td>2016-11-17T00:00:00Z</td>\n",
       "      <td>7</td>\n",
       "      <td>6</td>\n",
       "      <td>burntbricks</td>\n",
       "      <td>1</td>\n",
       "      <td>NaN</td>\n",
       "      <td>NaN</td>\n",
       "      <td>2</td>\n",
       "      <td>bicycle;radio;cow_plough;solar_panel;mobile_phone</td>\n",
       "      <td>2</td>\n",
       "      <td>Sept;Oct;Nov;Dec</td>\n",
       "      <td>uuid:148d1105-778a-4755-aa71-281eadd4a973</td>\n",
       "    </tr>\n",
       "    <tr>\n",
       "      <th>4</th>\n",
       "      <td>5</td>\n",
       "      <td>God</td>\n",
       "      <td>2016-11-17T00:00:00Z</td>\n",
       "      <td>7</td>\n",
       "      <td>40</td>\n",
       "      <td>burntbricks</td>\n",
       "      <td>1</td>\n",
       "      <td>NaN</td>\n",
       "      <td>NaN</td>\n",
       "      <td>4</td>\n",
       "      <td>motorcyle;radio;cow_plough;mobile_phone</td>\n",
       "      <td>2</td>\n",
       "      <td>Aug;Sept;Oct;Nov</td>\n",
       "      <td>uuid:2c867811-9696-4966-9866-f35c3e97d02d</td>\n",
       "    </tr>\n",
       "  </tbody>\n",
       "</table>\n",
       "</div>"
      ],
      "text/plain": [
       "   key_ID village        interview_date  no_membrs  years_liv  \\\n",
       "0       1     God  2016-11-17T00:00:00Z          3          4   \n",
       "1       1     God  2016-11-17T00:00:00Z          7          9   \n",
       "2       3     God  2016-11-17T00:00:00Z         10         15   \n",
       "3       4     God  2016-11-17T00:00:00Z          7          6   \n",
       "4       5     God  2016-11-17T00:00:00Z          7         40   \n",
       "\n",
       "  respondent_wall_type  rooms memb_assoc affect_conflicts  liv_count  \\\n",
       "0              muddaub      1        NaN              NaN          1   \n",
       "1              muddaub      1        yes             once          3   \n",
       "2          burntbricks      1        NaN              NaN          1   \n",
       "3          burntbricks      1        NaN              NaN          2   \n",
       "4          burntbricks      1        NaN              NaN          4   \n",
       "\n",
       "                                         items_owned  no_meals  \\\n",
       "0               bicycle;television;solar_panel;table         2   \n",
       "1  cow_cart;bicycle;radio;cow_plough;solar_panel;...         2   \n",
       "2                                        solar_torch         2   \n",
       "3  bicycle;radio;cow_plough;solar_panel;mobile_phone         2   \n",
       "4            motorcyle;radio;cow_plough;mobile_phone         2   \n",
       "\n",
       "          months_lack_food                                 instanceID  \n",
       "0                      Jan  uuid:ec241f2c-0609-46ed-b5e8-fe575f6cefef  \n",
       "1     Jan;Sept;Oct;Nov;Dec  uuid:099de9c9-3e5e-427b-8452-26250e840d6e  \n",
       "2  Jan;Feb;Mar;Oct;Nov;Dec  uuid:193d7daf-9582-409b-bf09-027dd36f9007  \n",
       "3         Sept;Oct;Nov;Dec  uuid:148d1105-778a-4755-aa71-281eadd4a973  \n",
       "4         Aug;Sept;Oct;Nov  uuid:2c867811-9696-4966-9866-f35c3e97d02d  "
      ]
     },
     "execution_count": 10,
     "metadata": {},
     "output_type": "execute_result"
    }
   ],
   "source": [
    "safi_df.head()"
   ]
  },
  {
   "cell_type": "code",
   "execution_count": 11,
   "metadata": {},
   "outputs": [
    {
     "data": {
      "text/html": [
       "<div>\n",
       "<style scoped>\n",
       "    .dataframe tbody tr th:only-of-type {\n",
       "        vertical-align: middle;\n",
       "    }\n",
       "\n",
       "    .dataframe tbody tr th {\n",
       "        vertical-align: top;\n",
       "    }\n",
       "\n",
       "    .dataframe thead th {\n",
       "        text-align: right;\n",
       "    }\n",
       "</style>\n",
       "<table border=\"1\" class=\"dataframe\">\n",
       "  <thead>\n",
       "    <tr style=\"text-align: right;\">\n",
       "      <th></th>\n",
       "      <th>key_ID</th>\n",
       "      <th>village</th>\n",
       "      <th>interview_date</th>\n",
       "      <th>no_membrs</th>\n",
       "      <th>years_liv</th>\n",
       "      <th>respondent_wall_type</th>\n",
       "      <th>rooms</th>\n",
       "      <th>memb_assoc</th>\n",
       "      <th>affect_conflicts</th>\n",
       "      <th>liv_count</th>\n",
       "      <th>items_owned</th>\n",
       "      <th>no_meals</th>\n",
       "      <th>months_lack_food</th>\n",
       "      <th>instanceID</th>\n",
       "    </tr>\n",
       "  </thead>\n",
       "  <tbody>\n",
       "    <tr>\n",
       "      <th>0</th>\n",
       "      <td>1</td>\n",
       "      <td>God</td>\n",
       "      <td>2016-11-17T00:00:00Z</td>\n",
       "      <td>3</td>\n",
       "      <td>4</td>\n",
       "      <td>muddaub</td>\n",
       "      <td>1</td>\n",
       "      <td>NaN</td>\n",
       "      <td>NaN</td>\n",
       "      <td>1</td>\n",
       "      <td>bicycle;television;solar_panel;table</td>\n",
       "      <td>2</td>\n",
       "      <td>Jan</td>\n",
       "      <td>uuid:ec241f2c-0609-46ed-b5e8-fe575f6cefef</td>\n",
       "    </tr>\n",
       "    <tr>\n",
       "      <th>1</th>\n",
       "      <td>1</td>\n",
       "      <td>God</td>\n",
       "      <td>2016-11-17T00:00:00Z</td>\n",
       "      <td>7</td>\n",
       "      <td>9</td>\n",
       "      <td>muddaub</td>\n",
       "      <td>1</td>\n",
       "      <td>yes</td>\n",
       "      <td>once</td>\n",
       "      <td>3</td>\n",
       "      <td>cow_cart;bicycle;radio;cow_plough;solar_panel;...</td>\n",
       "      <td>2</td>\n",
       "      <td>Jan;Sept;Oct;Nov;Dec</td>\n",
       "      <td>uuid:099de9c9-3e5e-427b-8452-26250e840d6e</td>\n",
       "    </tr>\n",
       "    <tr>\n",
       "      <th>2</th>\n",
       "      <td>3</td>\n",
       "      <td>God</td>\n",
       "      <td>2016-11-17T00:00:00Z</td>\n",
       "      <td>10</td>\n",
       "      <td>15</td>\n",
       "      <td>burntbricks</td>\n",
       "      <td>1</td>\n",
       "      <td>NaN</td>\n",
       "      <td>NaN</td>\n",
       "      <td>1</td>\n",
       "      <td>solar_torch</td>\n",
       "      <td>2</td>\n",
       "      <td>Jan;Feb;Mar;Oct;Nov;Dec</td>\n",
       "      <td>uuid:193d7daf-9582-409b-bf09-027dd36f9007</td>\n",
       "    </tr>\n",
       "  </tbody>\n",
       "</table>\n",
       "</div>"
      ],
      "text/plain": [
       "   key_ID village        interview_date  no_membrs  years_liv  \\\n",
       "0       1     God  2016-11-17T00:00:00Z          3          4   \n",
       "1       1     God  2016-11-17T00:00:00Z          7          9   \n",
       "2       3     God  2016-11-17T00:00:00Z         10         15   \n",
       "\n",
       "  respondent_wall_type  rooms memb_assoc affect_conflicts  liv_count  \\\n",
       "0              muddaub      1        NaN              NaN          1   \n",
       "1              muddaub      1        yes             once          3   \n",
       "2          burntbricks      1        NaN              NaN          1   \n",
       "\n",
       "                                         items_owned  no_meals  \\\n",
       "0               bicycle;television;solar_panel;table         2   \n",
       "1  cow_cart;bicycle;radio;cow_plough;solar_panel;...         2   \n",
       "2                                        solar_torch         2   \n",
       "\n",
       "          months_lack_food                                 instanceID  \n",
       "0                      Jan  uuid:ec241f2c-0609-46ed-b5e8-fe575f6cefef  \n",
       "1     Jan;Sept;Oct;Nov;Dec  uuid:099de9c9-3e5e-427b-8452-26250e840d6e  \n",
       "2  Jan;Feb;Mar;Oct;Nov;Dec  uuid:193d7daf-9582-409b-bf09-027dd36f9007  "
      ]
     },
     "execution_count": 11,
     "metadata": {},
     "output_type": "execute_result"
    }
   ],
   "source": [
    "safi_df.head(3)"
   ]
  },
  {
   "cell_type": "code",
   "execution_count": 12,
   "metadata": {},
   "outputs": [],
   "source": [
    "safi_df.head?"
   ]
  },
  {
   "cell_type": "code",
   "execution_count": 13,
   "metadata": {},
   "outputs": [
    {
     "data": {
      "text/html": [
       "<div>\n",
       "<style scoped>\n",
       "    .dataframe tbody tr th:only-of-type {\n",
       "        vertical-align: middle;\n",
       "    }\n",
       "\n",
       "    .dataframe tbody tr th {\n",
       "        vertical-align: top;\n",
       "    }\n",
       "\n",
       "    .dataframe thead th {\n",
       "        text-align: right;\n",
       "    }\n",
       "</style>\n",
       "<table border=\"1\" class=\"dataframe\">\n",
       "  <thead>\n",
       "    <tr style=\"text-align: right;\">\n",
       "      <th></th>\n",
       "      <th>key_ID</th>\n",
       "      <th>village</th>\n",
       "      <th>interview_date</th>\n",
       "      <th>no_membrs</th>\n",
       "      <th>years_liv</th>\n",
       "      <th>respondent_wall_type</th>\n",
       "      <th>rooms</th>\n",
       "      <th>memb_assoc</th>\n",
       "      <th>affect_conflicts</th>\n",
       "      <th>liv_count</th>\n",
       "      <th>items_owned</th>\n",
       "      <th>no_meals</th>\n",
       "      <th>months_lack_food</th>\n",
       "      <th>instanceID</th>\n",
       "    </tr>\n",
       "  </thead>\n",
       "  <tbody>\n",
       "    <tr>\n",
       "      <th>126</th>\n",
       "      <td>126</td>\n",
       "      <td>Ruaca</td>\n",
       "      <td>2017-05-18T00:00:00Z</td>\n",
       "      <td>3</td>\n",
       "      <td>7</td>\n",
       "      <td>burntbricks</td>\n",
       "      <td>1</td>\n",
       "      <td>no</td>\n",
       "      <td>more_once</td>\n",
       "      <td>3</td>\n",
       "      <td>motorcyle;radio;solar_panel</td>\n",
       "      <td>3</td>\n",
       "      <td>Oct;Nov;Dec</td>\n",
       "      <td>uuid:69caea81-a4e5-4e8d-83cd-9c18d8e8d965</td>\n",
       "    </tr>\n",
       "    <tr>\n",
       "      <th>127</th>\n",
       "      <td>193</td>\n",
       "      <td>Ruaca</td>\n",
       "      <td>2017-06-04T00:00:00Z</td>\n",
       "      <td>7</td>\n",
       "      <td>10</td>\n",
       "      <td>cement</td>\n",
       "      <td>3</td>\n",
       "      <td>no</td>\n",
       "      <td>more_once</td>\n",
       "      <td>3</td>\n",
       "      <td>car;lorry;television;radio;sterio;cow_plough;s...</td>\n",
       "      <td>3</td>\n",
       "      <td>none</td>\n",
       "      <td>uuid:5ccc2e5a-ea90-48b5-8542-69400d5334df</td>\n",
       "    </tr>\n",
       "    <tr>\n",
       "      <th>128</th>\n",
       "      <td>194</td>\n",
       "      <td>Ruaca</td>\n",
       "      <td>2017-06-04T00:00:00Z</td>\n",
       "      <td>4</td>\n",
       "      <td>5</td>\n",
       "      <td>muddaub</td>\n",
       "      <td>1</td>\n",
       "      <td>no</td>\n",
       "      <td>more_once</td>\n",
       "      <td>1</td>\n",
       "      <td>radio;solar_panel;solar_torch;mobile_phone</td>\n",
       "      <td>3</td>\n",
       "      <td>Sept;Oct;Nov</td>\n",
       "      <td>uuid:95c11a30-d44f-40c4-8ea8-ec34fca6bbbf</td>\n",
       "    </tr>\n",
       "    <tr>\n",
       "      <th>129</th>\n",
       "      <td>199</td>\n",
       "      <td>Chirodzo</td>\n",
       "      <td>2017-06-04T00:00:00Z</td>\n",
       "      <td>7</td>\n",
       "      <td>17</td>\n",
       "      <td>burntbricks</td>\n",
       "      <td>2</td>\n",
       "      <td>yes</td>\n",
       "      <td>more_once</td>\n",
       "      <td>2</td>\n",
       "      <td>cow_cart;lorry;motorcyle;computer;television;r...</td>\n",
       "      <td>3</td>\n",
       "      <td>Nov;Dec</td>\n",
       "      <td>uuid:ffc83162-ff24-4a87-8709-eff17abc0b3b</td>\n",
       "    </tr>\n",
       "    <tr>\n",
       "      <th>130</th>\n",
       "      <td>200</td>\n",
       "      <td>Chirodzo</td>\n",
       "      <td>2017-06-04T00:00:00Z</td>\n",
       "      <td>8</td>\n",
       "      <td>20</td>\n",
       "      <td>burntbricks</td>\n",
       "      <td>2</td>\n",
       "      <td>NaN</td>\n",
       "      <td>NaN</td>\n",
       "      <td>3</td>\n",
       "      <td>radio;cow_plough;solar_panel;solar_torch;table...</td>\n",
       "      <td>3</td>\n",
       "      <td>Oct;Nov</td>\n",
       "      <td>uuid:aa77a0d7-7142-41c8-b494-483a5b68d8a7</td>\n",
       "    </tr>\n",
       "  </tbody>\n",
       "</table>\n",
       "</div>"
      ],
      "text/plain": [
       "     key_ID   village        interview_date  no_membrs  years_liv  \\\n",
       "126     126     Ruaca  2017-05-18T00:00:00Z          3          7   \n",
       "127     193     Ruaca  2017-06-04T00:00:00Z          7         10   \n",
       "128     194     Ruaca  2017-06-04T00:00:00Z          4          5   \n",
       "129     199  Chirodzo  2017-06-04T00:00:00Z          7         17   \n",
       "130     200  Chirodzo  2017-06-04T00:00:00Z          8         20   \n",
       "\n",
       "    respondent_wall_type  rooms memb_assoc affect_conflicts  liv_count  \\\n",
       "126          burntbricks      1         no        more_once          3   \n",
       "127               cement      3         no        more_once          3   \n",
       "128              muddaub      1         no        more_once          1   \n",
       "129          burntbricks      2        yes        more_once          2   \n",
       "130          burntbricks      2        NaN              NaN          3   \n",
       "\n",
       "                                           items_owned  no_meals  \\\n",
       "126                        motorcyle;radio;solar_panel         3   \n",
       "127  car;lorry;television;radio;sterio;cow_plough;s...         3   \n",
       "128         radio;solar_panel;solar_torch;mobile_phone         3   \n",
       "129  cow_cart;lorry;motorcyle;computer;television;r...         3   \n",
       "130  radio;cow_plough;solar_panel;solar_torch;table...         3   \n",
       "\n",
       "    months_lack_food                                 instanceID  \n",
       "126      Oct;Nov;Dec  uuid:69caea81-a4e5-4e8d-83cd-9c18d8e8d965  \n",
       "127             none  uuid:5ccc2e5a-ea90-48b5-8542-69400d5334df  \n",
       "128     Sept;Oct;Nov  uuid:95c11a30-d44f-40c4-8ea8-ec34fca6bbbf  \n",
       "129          Nov;Dec  uuid:ffc83162-ff24-4a87-8709-eff17abc0b3b  \n",
       "130          Oct;Nov  uuid:aa77a0d7-7142-41c8-b494-483a5b68d8a7  "
      ]
     },
     "execution_count": 13,
     "metadata": {},
     "output_type": "execute_result"
    }
   ],
   "source": [
    "safi_df.tail()"
   ]
  },
  {
   "cell_type": "code",
   "execution_count": 14,
   "metadata": {},
   "outputs": [
    {
     "data": {
      "text/plain": [
       "Index(['key_ID', 'village', 'interview_date', 'no_membrs', 'years_liv',\n",
       "       'respondent_wall_type', 'rooms', 'memb_assoc', 'affect_conflicts',\n",
       "       'liv_count', 'items_owned', 'no_meals', 'months_lack_food',\n",
       "       'instanceID'],\n",
       "      dtype='object')"
      ]
     },
     "execution_count": 14,
     "metadata": {},
     "output_type": "execute_result"
    }
   ],
   "source": [
    "safi_df.columns"
   ]
  },
  {
   "cell_type": "code",
   "execution_count": 15,
   "metadata": {},
   "outputs": [
    {
     "data": {
      "text/plain": [
       "'interview_date'"
      ]
     },
     "execution_count": 15,
     "metadata": {},
     "output_type": "execute_result"
    }
   ],
   "source": [
    "safi_df.columns[2]"
   ]
  },
  {
   "cell_type": "code",
   "execution_count": 16,
   "metadata": {},
   "outputs": [
    {
     "data": {
      "text/plain": [
       "0      2016-11-17T00:00:00Z\n",
       "1      2016-11-17T00:00:00Z\n",
       "2      2016-11-17T00:00:00Z\n",
       "3      2016-11-17T00:00:00Z\n",
       "4      2016-11-17T00:00:00Z\n",
       "               ...         \n",
       "126    2017-05-18T00:00:00Z\n",
       "127    2017-06-04T00:00:00Z\n",
       "128    2017-06-04T00:00:00Z\n",
       "129    2017-06-04T00:00:00Z\n",
       "130    2017-06-04T00:00:00Z\n",
       "Name: interview_date, Length: 131, dtype: object"
      ]
     },
     "execution_count": 16,
     "metadata": {},
     "output_type": "execute_result"
    }
   ],
   "source": [
    "safi_df['interview_date']"
   ]
  },
  {
   "cell_type": "code",
   "execution_count": 17,
   "metadata": {},
   "outputs": [
    {
     "ename": "TypeError",
     "evalue": "'Index' object is not callable",
     "output_type": "error",
     "traceback": [
      "\u001b[0;31m---------------------------------------------------------------------------\u001b[0m",
      "\u001b[0;31mTypeError\u001b[0m                                 Traceback (most recent call last)",
      "\u001b[0;32m<ipython-input-17-bd02c7e8a4a6>\u001b[0m in \u001b[0;36m<module>\u001b[0;34m\u001b[0m\n\u001b[0;32m----> 1\u001b[0;31m \u001b[0msafi_df\u001b[0m\u001b[0;34m.\u001b[0m\u001b[0mcolumns\u001b[0m\u001b[0;34m(\u001b[0m\u001b[0;36m2\u001b[0m\u001b[0;34m)\u001b[0m\u001b[0;34m\u001b[0m\u001b[0;34m\u001b[0m\u001b[0m\n\u001b[0m",
      "\u001b[0;31mTypeError\u001b[0m: 'Index' object is not callable"
     ]
    }
   ],
   "source": [
    "safi_df.columns(2)"
   ]
  },
  {
   "cell_type": "code",
   "execution_count": null,
   "metadata": {},
   "outputs": [],
   "source": [
    "pd.DataFrame.columns(2)"
   ]
  },
  {
   "cell_type": "code",
   "execution_count": null,
   "metadata": {},
   "outputs": [],
   "source": [
    "pd.DataFrame"
   ]
  },
  {
   "cell_type": "code",
   "execution_count": null,
   "metadata": {},
   "outputs": [],
   "source": [
    "type(pd.DataFrame)"
   ]
  },
  {
   "cell_type": "code",
   "execution_count": null,
   "metadata": {},
   "outputs": [],
   "source": [
    "safi_df.dtypes"
   ]
  },
  {
   "cell_type": "code",
   "execution_count": null,
   "metadata": {},
   "outputs": [],
   "source": [
    "safi_df.head(2)"
   ]
  },
  {
   "cell_type": "code",
   "execution_count": null,
   "metadata": {},
   "outputs": [],
   "source": [
    "pd.unique(safi_df['village'])"
   ]
  },
  {
   "cell_type": "code",
   "execution_count": null,
   "metadata": {},
   "outputs": [],
   "source": [
    "safi_df['village'].value_counts()"
   ]
  },
  {
   "cell_type": "code",
   "execution_count": null,
   "metadata": {},
   "outputs": [],
   "source": [
    "safi_df['respondent_wall_type'].value_counts()"
   ]
  },
  {
   "cell_type": "code",
   "execution_count": null,
   "metadata": {},
   "outputs": [],
   "source": []
  }
 ],
 "metadata": {
  "jupytext": {
   "text_representation": {
    "extension": ".md",
    "format_name": "myst",
    "format_version": 0.12,
    "jupytext_version": "1.6.0"
   }
  },
  "kernelspec": {
   "display_name": "Python 3",
   "language": "python",
   "name": "python3"
  },
  "language_info": {
   "codemirror_mode": {
    "name": "ipython",
    "version": 3
   },
   "file_extension": ".py",
   "mimetype": "text/x-python",
   "name": "python",
   "nbconvert_exporter": "python",
   "pygments_lexer": "ipython3",
   "version": "3.7.9"
  },
  "source_map": [
   14,
   18,
   22,
   24,
   28,
   32,
   36,
   40,
   44,
   48,
   52,
   56,
   60,
   64,
   68,
   72,
   76,
   80,
   84,
   88,
   92,
   96,
   100,
   104,
   108,
   112,
   116
  ]
 },
 "nbformat": 4,
 "nbformat_minor": 4
}