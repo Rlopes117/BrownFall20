{
 "cells": [
  {
   "cell_type": "markdown",
   "metadata": {},
   "source": [
    "# Welcome to Week 2\n",
    "\n",
    "This week we will:\n",
    "- clarify how this grading really works\n",
    "- learn about accessing data\n",
    "- use accessing data as motivation to review more python\n",
    "\n",
    "## Grading and Assignment 1\n",
    "\n",
    "\n",
    "\n",
    "## Iterables\n",
    "\n",
    "Python has a general data type for objects that are designed to facilitate repetition of some sort, they're called `iterable`s\n",
    "\n",
    "We've already seen one. Strings are `Iterable`s"
   ]
  },
  {
   "cell_type": "code",
   "execution_count": 1,
   "metadata": {},
   "outputs": [],
   "source": [
    "name = 'sarah'"
   ]
  },
  {
   "cell_type": "markdown",
   "metadata": {},
   "source": [
    "````{margin}\n",
    "```{tip}\n",
    "remember python indexes from 0\n",
    "```\n",
    "````\n",
    "which means we can index them"
   ]
  },
  {
   "cell_type": "code",
   "execution_count": 2,
   "metadata": {},
   "outputs": [
    {
     "data": {
      "text/plain": [
       "'a'"
      ]
     },
     "execution_count": 2,
     "metadata": {},
     "output_type": "execute_result"
    }
   ],
   "source": [
    "name[3]"
   ]
  },
  {
   "cell_type": "markdown",
   "metadata": {},
   "source": [
    "Indexing with a negative number counts from the end"
   ]
  },
  {
   "cell_type": "code",
   "execution_count": 3,
   "metadata": {},
   "outputs": [
    {
     "data": {
      "text/plain": [
       "'h'"
      ]
     },
     "execution_count": 3,
     "metadata": {},
     "output_type": "execute_result"
    }
   ],
   "source": [
    "name[-1]"
   ]
  },
  {
   "cell_type": "markdown",
   "metadata": {},
   "source": [
    "Loops in python have similar syntax to the `if` and functions we saw last week:"
   ]
  },
  {
   "cell_type": "code",
   "execution_count": 4,
   "metadata": {},
   "outputs": [
    {
     "name": "stdout",
     "output_type": "stream",
     "text": [
      "sss\n",
      "aaa\n",
      "rrr\n",
      "aaa\n",
      "hhh\n"
     ]
    }
   ],
   "source": [
    "for char in name:\n",
    "    print(char*3)"
   ]
  },
  {
   "cell_type": "markdown",
   "metadata": {},
   "source": [
    "some notes:\n",
    "- `char` is called the loop variable\n",
    "- `name` is called the collection- this can be any iterable type object in python\n",
    "- `print(char*3)` is called the loop body\n",
    "- python lets us use mathematical operations on strings\n",
    "\n",
    "### Lists and List Comprehensions\n",
    "\n",
    "We make a list with square brackets"
   ]
  },
  {
   "cell_type": "code",
   "execution_count": 5,
   "metadata": {},
   "outputs": [],
   "source": [
    "names = ['sarah', 'Jose', 'Cam', 'Bri']"
   ]
  },
  {
   "cell_type": "markdown",
   "metadata": {},
   "source": [
    "we can also build lists by folding a loop into the list construction"
   ]
  },
  {
   "cell_type": "code",
   "execution_count": 6,
   "metadata": {},
   "outputs": [
    {
     "data": {
      "text/plain": [
       "['hellosarah', 'helloJose', 'helloCam', 'helloBri']"
      ]
     },
     "execution_count": 6,
     "metadata": {},
     "output_type": "execute_result"
    }
   ],
   "source": [
    "['hello' + n for n in names]"
   ]
  },
  {
   "cell_type": "markdown",
   "metadata": {},
   "source": [
    "this is called a list comprehension"
   ]
  },
  {
   "cell_type": "code",
   "execution_count": 7,
   "metadata": {},
   "outputs": [],
   "source": [
    "greetings = ['hello ' + n for n in names]"
   ]
  },
  {
   "cell_type": "code",
   "execution_count": 8,
   "metadata": {},
   "outputs": [
    {
     "data": {
      "text/plain": [
       "'hello sarah'"
      ]
     },
     "execution_count": 8,
     "metadata": {},
     "output_type": "execute_result"
    }
   ],
   "source": [
    "greetings[0]"
   ]
  },
  {
   "cell_type": "markdown",
   "metadata": {},
   "source": [
    "## Dictionaries\n",
    "\n",
    "Dictionaries are a useful datatype in python. It is denoted by `{}` and contains `key: value` pairs separated by commas."
   ]
  },
  {
   "cell_type": "code",
   "execution_count": 9,
   "metadata": {},
   "outputs": [
    {
     "data": {
      "text/plain": [
       "{'brownsarahm': 'Sarah Brown',\n",
       " 'briannakathrynm1': 'Brianna MacDonald',\n",
       " 'jdion62': 'Jacob Dion'}"
      ]
     },
     "execution_count": 9,
     "metadata": {},
     "output_type": "execute_result"
    }
   ],
   "source": [
    "gh_names = {'brownsarahm':'Sarah Brown',\n",
    "            'briannakathrynm1' : 'Brianna MacDonald',\n",
    "            'jdion62':'Jacob Dion'}\n",
    "gh_names"
   ]
  },
  {
   "cell_type": "markdown",
   "metadata": {},
   "source": [
    "You can think of it like a list of the values with a named index."
   ]
  },
  {
   "cell_type": "code",
   "execution_count": 10,
   "metadata": {},
   "outputs": [
    {
     "data": {
      "text/plain": [
       "'Jacob Dion'"
      ]
     },
     "execution_count": 10,
     "metadata": {},
     "output_type": "execute_result"
    }
   ],
   "source": [
    "gh_names['jdion62']"
   ]
  },
  {
   "cell_type": "markdown",
   "metadata": {},
   "source": [
    "we can iterate over both the key and the value by using the `items` method on a dictionary. That makes another iterable object that can be used as a loop collection. It functions as a set of pairs now, so we get two loop variables:"
   ]
  },
  {
   "cell_type": "code",
   "execution_count": 11,
   "metadata": {},
   "outputs": [
    {
     "name": "stdout",
     "output_type": "stream",
     "text": [
      "Sarah Brown 's username is  brownsarahm\n",
      "Brianna MacDonald 's username is  briannakathrynm1\n",
      "Jacob Dion 's username is  jdion62\n"
     ]
    }
   ],
   "source": [
    "for key, value in gh_names.items():\n",
    "    print(value, \"'s username is \", key)"
   ]
  },
  {
   "cell_type": "markdown",
   "metadata": {},
   "source": [
    "If we iterate over the dictionary without that method, we get the keys."
   ]
  },
  {
   "cell_type": "code",
   "execution_count": 12,
   "metadata": {},
   "outputs": [
    {
     "name": "stdout",
     "output_type": "stream",
     "text": [
      "brownsarahm\n",
      "briannakathrynm1\n",
      "jdion62\n"
     ]
    }
   ],
   "source": [
    "for val in gh_names:\n",
    "    print(val)"
   ]
  },
  {
   "cell_type": "markdown",
   "metadata": {},
   "source": [
    "## Libraries\n",
    "\n",
    "To use libraries in python we import them\n",
    "````{margin}\n",
    "```{tip}\n",
    "note that `import` is a keyword and that in a Jupyter notebook, we can import anywhere and then the library can be used in any cell that is *run* after the import cell is *run*.  It's good practice to put them at the top and make your notebook runnable in sequence, but Jupyter won't force you to.\n",
    "```\n",
    "````\n",
    "We will use [`pandas`](https://pandas.pydata.org/) a lot in this class. It's the Python Data Analysis Library."
   ]
  },
  {
   "cell_type": "code",
   "execution_count": 13,
   "metadata": {},
   "outputs": [],
   "source": [
    "import pandas"
   ]
  },
  {
   "cell_type": "markdown",
   "metadata": {},
   "source": [
    "Once we import we can use the functions, datatypes, and values a library provides by using a `.` after the name. In a notebook, pressing tab will show you the options.\n",
    "\n",
    "````{margin}\n",
    "```{tip}\n",
    "For example if you don't remember what kind of read functions there are in pandas, type `pandas.read` and then press tabb to see options.\n",
    "```\n",
    "````"
   ]
  },
  {
   "cell_type": "code",
   "execution_count": 14,
   "metadata": {},
   "outputs": [
    {
     "ename": "TypeError",
     "evalue": "read_csv() missing 1 required positional argument: 'filepath_or_buffer'",
     "output_type": "error",
     "traceback": [
      "\u001b[0;31m---------------------------------------------------------------------------\u001b[0m",
      "\u001b[0;31mTypeError\u001b[0m                                 Traceback (most recent call last)",
      "\u001b[0;32m<ipython-input-14-374a1a6f9f7e>\u001b[0m in \u001b[0;36m<module>\u001b[0;34m\u001b[0m\n\u001b[0;32m----> 1\u001b[0;31m \u001b[0mpandas\u001b[0m\u001b[0;34m.\u001b[0m\u001b[0mread_csv\u001b[0m\u001b[0;34m(\u001b[0m\u001b[0;34m)\u001b[0m\u001b[0;34m\u001b[0m\u001b[0;34m\u001b[0m\u001b[0m\n\u001b[0m",
      "\u001b[0;31mTypeError\u001b[0m: read_csv() missing 1 required positional argument: 'filepath_or_buffer'"
     ]
    }
   ],
   "source": [
    "pandas.read_csv()"
   ]
  },
  {
   "cell_type": "markdown",
   "metadata": {},
   "source": [
    "We can also use an alias to give a library a nickname to make it easier to use. `pd` is the standard alias for `pandas`"
   ]
  },
  {
   "cell_type": "code",
   "execution_count": null,
   "metadata": {},
   "outputs": [],
   "source": [
    "import pandas as pd"
   ]
  },
  {
   "cell_type": "markdown",
   "metadata": {},
   "source": [
    "We can read in from a local path or a url. Let's read in the course map page of our course website."
   ]
  },
  {
   "cell_type": "code",
   "execution_count": null,
   "metadata": {},
   "outputs": [],
   "source": [
    "pd.read_html('https://rhodyprog4ds.github.io/BrownFall20/syllabus/course_map.html')"
   ]
  },
  {
   "cell_type": "markdown",
   "metadata": {},
   "source": [
    "This makes a `list` of `pandas.DataFrame` objects. We can check that with the following\n",
    "\n",
    "```{warning}\n",
    "This cell was added after class, but the explanation was given in class\n",
    "```"
   ]
  },
  {
   "cell_type": "code",
   "execution_count": null,
   "metadata": {},
   "outputs": [],
   "source": [
    "type(pd.read_html('https://rhodyprog4ds.github.io/BrownFall20/syllabus/course_map.html'))"
   ]
  },
  {
   "cell_type": "markdown",
   "metadata": {},
   "source": [
    "To work with it though, we should save to a variable, then we can index into that list."
   ]
  },
  {
   "cell_type": "code",
   "execution_count": null,
   "metadata": {},
   "outputs": [],
   "source": [
    "df_list = pd.read_html('https://rhodyprog4ds.github.io/BrownFall20/syllabus/course_map.html')\n",
    "df_list[0]"
   ]
  },
  {
   "cell_type": "markdown",
   "metadata": {},
   "source": [
    "When you display `DataFrames` in jupyter, they get nice formatting."
   ]
  },
  {
   "cell_type": "markdown",
   "metadata": {},
   "source": [
    "Today's Review:\n",
    "- strings are iterable\n",
    "- loops\n",
    "- dictionaries\n",
    "- imported pandas and read data"
   ]
  }
 ],
 "metadata": {
  "jupytext": {
   "text_representation": {
    "extension": ".md",
    "format_name": "myst",
    "format_version": 0.12,
    "jupytext_version": "1.6.0"
   }
  },
  "kernelspec": {
   "display_name": "Python 3",
   "language": "python",
   "name": "python3"
  },
  "language_info": {
   "codemirror_mode": {
    "name": "ipython",
    "version": 3
   },
   "file_extension": ".py",
   "mimetype": "text/x-python",
   "name": "python",
   "nbconvert_exporter": "python",
   "pygments_lexer": "ipython3",
   "version": "3.7.9"
  },
  "source_map": [
   12,
   31,
   33,
   43,
   45,
   48,
   50,
   53,
   56,
   67,
   69,
   73,
   75,
   79,
   83,
   85,
   91,
   96,
   99,
   101,
   105,
   108,
   111,
   114,
   126,
   128,
   138,
   140,
   144,
   146,
   150,
   152,
   160,
   162,
   166,
   169,
   173
  ]
 },
 "nbformat": 4,
 "nbformat_minor": 4
}